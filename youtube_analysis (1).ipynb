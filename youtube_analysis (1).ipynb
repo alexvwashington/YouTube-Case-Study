{
 "cells": [
  {
   "cell_type": "markdown",
   "id": "f0b10545-a43e-4fc8-a7d2-2e1ea5bb71fc",
   "metadata": {},
   "source": [
    "# YouTube Case Study (Text Data Analysis)\n",
    "\n",
    "## Introduction\n",
    "\n",
    "This case study analyzes text within the YouTube app. We begin with exploring the data and it's size. Next, we clean the data and prepare it for analysis. We end with analyzing user sentiments, positive comments, and emoji usage.\n",
    "\n",
    "### Types of Data Analysis\n",
    "\n",
    "* Sentiment Analysis\n",
    "* Wordcloud Analysis\n",
    "* Emoji Analysis\n",
    "***\n",
    "## Preparing the Environment\n",
    "\n",
    "We will import the necessary libraries and read in the data set. \n",
    "\n",
    "* Pandas and Numpy - data manipulation\n",
    "* Seaborn and Matplotlib - data visualization"
   ]
  },
  {
   "cell_type": "code",
   "execution_count": 1128,
   "id": "f1c884ef-e594-4e52-bb7d-409a06884704",
   "metadata": {},
   "outputs": [],
   "source": [
    "# Import libraries\n",
    "import pandas as pd\n",
    "import numpy as np\n",
    "import seaborn as sns\n",
    "import matplotlib.pyplot as plt"
   ]
  },
  {
   "cell_type": "code",
   "execution_count": 1129,
   "id": "fa5b97a3-b0d0-4c4b-bde6-f04d25fd2413",
   "metadata": {},
   "outputs": [],
   "source": [
    "# Read and load CSV data\n",
    "comments = pd.read_csv(r'UScomments.csv', on_bad_lines = 'skip', low_memory=False)"
   ]
  },
  {
   "cell_type": "markdown",
   "id": "1c0ffe01-afef-4378-8231-dcadf09d9715",
   "metadata": {},
   "source": [
    "## Data Exploration \n",
    "We will use the following functions to explore the data\n",
    "* head() - view first 5 rows\n",
    "* tail() - view last 5 rows\n",
    "* shape - the amount of rows and columns in data set"
   ]
  },
  {
   "cell_type": "code",
   "execution_count": 1131,
   "id": "d3c0196b-3df8-422e-9ee0-ccc092804127",
   "metadata": {},
   "outputs": [
    {
     "data": {
      "text/html": [
       "<div>\n",
       "<style scoped>\n",
       "    .dataframe tbody tr th:only-of-type {\n",
       "        vertical-align: middle;\n",
       "    }\n",
       "\n",
       "    .dataframe tbody tr th {\n",
       "        vertical-align: top;\n",
       "    }\n",
       "\n",
       "    .dataframe thead th {\n",
       "        text-align: right;\n",
       "    }\n",
       "</style>\n",
       "<table border=\"1\" class=\"dataframe\">\n",
       "  <thead>\n",
       "    <tr style=\"text-align: right;\">\n",
       "      <th></th>\n",
       "      <th>video_id</th>\n",
       "      <th>comment_text</th>\n",
       "      <th>likes</th>\n",
       "      <th>replies</th>\n",
       "    </tr>\n",
       "  </thead>\n",
       "  <tbody>\n",
       "    <tr>\n",
       "      <th>0</th>\n",
       "      <td>XpVt6Z1Gjjo</td>\n",
       "      <td>Logan Paul it's yo big day ‼️‼️‼️</td>\n",
       "      <td>4</td>\n",
       "      <td>0</td>\n",
       "    </tr>\n",
       "    <tr>\n",
       "      <th>1</th>\n",
       "      <td>XpVt6Z1Gjjo</td>\n",
       "      <td>I've been following you from the start of your...</td>\n",
       "      <td>3</td>\n",
       "      <td>0</td>\n",
       "    </tr>\n",
       "    <tr>\n",
       "      <th>2</th>\n",
       "      <td>XpVt6Z1Gjjo</td>\n",
       "      <td>Say hi to Kong and maverick for me</td>\n",
       "      <td>3</td>\n",
       "      <td>0</td>\n",
       "    </tr>\n",
       "    <tr>\n",
       "      <th>3</th>\n",
       "      <td>XpVt6Z1Gjjo</td>\n",
       "      <td>MY FAN . attendance</td>\n",
       "      <td>3</td>\n",
       "      <td>0</td>\n",
       "    </tr>\n",
       "    <tr>\n",
       "      <th>4</th>\n",
       "      <td>XpVt6Z1Gjjo</td>\n",
       "      <td>trending 😉</td>\n",
       "      <td>3</td>\n",
       "      <td>0</td>\n",
       "    </tr>\n",
       "  </tbody>\n",
       "</table>\n",
       "</div>"
      ],
      "text/plain": [
       "      video_id                                       comment_text likes  \\\n",
       "0  XpVt6Z1Gjjo                  Logan Paul it's yo big day ‼️‼️‼️     4   \n",
       "1  XpVt6Z1Gjjo  I've been following you from the start of your...     3   \n",
       "2  XpVt6Z1Gjjo                 Say hi to Kong and maverick for me     3   \n",
       "3  XpVt6Z1Gjjo                                MY FAN . attendance     3   \n",
       "4  XpVt6Z1Gjjo                                         trending 😉     3   \n",
       "\n",
       "  replies  \n",
       "0       0  \n",
       "1       0  \n",
       "2       0  \n",
       "3       0  \n",
       "4       0  "
      ]
     },
     "execution_count": 1131,
     "metadata": {},
     "output_type": "execute_result"
    }
   ],
   "source": [
    "# Display first 5 rows of data set\n",
    "comments.head()"
   ]
  },
  {
   "cell_type": "code",
   "execution_count": 1132,
   "id": "eac3adc5-0377-40f1-8422-758a30914864",
   "metadata": {},
   "outputs": [
    {
     "data": {
      "text/html": [
       "<div>\n",
       "<style scoped>\n",
       "    .dataframe tbody tr th:only-of-type {\n",
       "        vertical-align: middle;\n",
       "    }\n",
       "\n",
       "    .dataframe tbody tr th {\n",
       "        vertical-align: top;\n",
       "    }\n",
       "\n",
       "    .dataframe thead th {\n",
       "        text-align: right;\n",
       "    }\n",
       "</style>\n",
       "<table border=\"1\" class=\"dataframe\">\n",
       "  <thead>\n",
       "    <tr style=\"text-align: right;\">\n",
       "      <th></th>\n",
       "      <th>video_id</th>\n",
       "      <th>comment_text</th>\n",
       "      <th>likes</th>\n",
       "      <th>replies</th>\n",
       "    </tr>\n",
       "  </thead>\n",
       "  <tbody>\n",
       "    <tr>\n",
       "      <th>691395</th>\n",
       "      <td>EoejGgUNmVU</td>\n",
       "      <td>Лучшая</td>\n",
       "      <td>1</td>\n",
       "      <td>0</td>\n",
       "    </tr>\n",
       "    <tr>\n",
       "      <th>691396</th>\n",
       "      <td>EoejGgUNmVU</td>\n",
       "      <td>qu'est ce que j'aimerais que tu viennes à Roan...</td>\n",
       "      <td>0</td>\n",
       "      <td>0</td>\n",
       "    </tr>\n",
       "    <tr>\n",
       "      <th>691397</th>\n",
       "      <td>EoejGgUNmVU</td>\n",
       "      <td>Ven a mexico! 😍 te amo LP</td>\n",
       "      <td>0</td>\n",
       "      <td>0</td>\n",
       "    </tr>\n",
       "    <tr>\n",
       "      <th>691398</th>\n",
       "      <td>EoejGgUNmVU</td>\n",
       "      <td>Islığı yeter...</td>\n",
       "      <td>0</td>\n",
       "      <td>0</td>\n",
       "    </tr>\n",
       "    <tr>\n",
       "      <th>691399</th>\n",
       "      <td>EoejGgUNmVU</td>\n",
       "      <td>Kocham tą piosenkę😍❤❤❤byłam zakochana po uszy ...</td>\n",
       "      <td>0</td>\n",
       "      <td>0</td>\n",
       "    </tr>\n",
       "  </tbody>\n",
       "</table>\n",
       "</div>"
      ],
      "text/plain": [
       "           video_id                                       comment_text likes  \\\n",
       "691395  EoejGgUNmVU                                             Лучшая     1   \n",
       "691396  EoejGgUNmVU  qu'est ce que j'aimerais que tu viennes à Roan...     0   \n",
       "691397  EoejGgUNmVU                          Ven a mexico! 😍 te amo LP     0   \n",
       "691398  EoejGgUNmVU                                    Islığı yeter...     0   \n",
       "691399  EoejGgUNmVU  Kocham tą piosenkę😍❤❤❤byłam zakochana po uszy ...     0   \n",
       "\n",
       "       replies  \n",
       "691395       0  \n",
       "691396       0  \n",
       "691397       0  \n",
       "691398       0  \n",
       "691399       0  "
      ]
     },
     "execution_count": 1132,
     "metadata": {},
     "output_type": "execute_result"
    }
   ],
   "source": [
    "# Display last 5 rows of data set\n",
    "comments.tail()"
   ]
  },
  {
   "cell_type": "code",
   "execution_count": 1133,
   "id": "846c7b25-c761-45e3-8f4b-dbac8edf98e8",
   "metadata": {},
   "outputs": [
    {
     "data": {
      "text/plain": [
       "(691400, 4)"
      ]
     },
     "execution_count": 1133,
     "metadata": {},
     "output_type": "execute_result"
    }
   ],
   "source": [
    "# Shape of data set\n",
    "comments.shape"
   ]
  },
  {
   "cell_type": "markdown",
   "id": "03da2264-24b2-4a35-a773-b7ea60e493b1",
   "metadata": {},
   "source": [
    "There are 691,400 rows and 13 columns.\n",
    "*** \n",
    "## Data Transformation (Cleaning)\n",
    "\n",
    "We will complete the following steps to clean the data\n",
    "\n",
    "* use the isnull() and sum() functions to calculate missing comments\n",
    "* remove rows with missing comments using dropna() function"
   ]
  },
  {
   "cell_type": "code",
   "execution_count": 1135,
   "id": "e2e84024-4849-46fe-82dc-c8b868d520c5",
   "metadata": {},
   "outputs": [
    {
     "data": {
      "text/plain": [
       "video_id         0\n",
       "comment_text    26\n",
       "likes            0\n",
       "replies          0\n",
       "dtype: int64"
      ]
     },
     "execution_count": 1135,
     "metadata": {},
     "output_type": "execute_result"
    }
   ],
   "source": [
    "# Find out how many rows are missing comment text\n",
    "comments.isnull().sum()"
   ]
  },
  {
   "cell_type": "code",
   "execution_count": 1136,
   "id": "03e68ac9-de14-4866-9915-d69053c42fa5",
   "metadata": {},
   "outputs": [
    {
     "data": {
      "text/plain": [
       "video_id        0\n",
       "comment_text    0\n",
       "likes           0\n",
       "replies         0\n",
       "dtype: int64"
      ]
     },
     "execution_count": 1136,
     "metadata": {},
     "output_type": "execute_result"
    }
   ],
   "source": [
    "# Transform into acceptable form by deleting rows with empty comments \n",
    "comments.dropna(inplace=True)\n",
    "comments.isnull().sum()"
   ]
  },
  {
   "cell_type": "markdown",
   "id": "bdbab076-b78d-4834-a155-38902bb3c634",
   "metadata": {},
   "source": [
    "## Text Data Analysis\n",
    "\n",
    "### 1. Sentiment Analysis\n",
    "This analysis will gauge users' feelings (sentiments) through their comments. We will use polarity as a metric. Polarity is measured from -1 to 1, where -1 is the most negative, 0 is neutral, and 1 is the most positive. \n",
    "\n",
    "We will do the following in this analysis:\n",
    "* import TextBlob function to process textual data\n",
    "* transform user comments into TextBlob\n",
    "* find polarity of each comment\n",
    "* add a polarity column into data set"
   ]
  },
  {
   "cell_type": "code",
   "execution_count": 1138,
   "id": "8291f465-e26b-4571-b265-e23516d4b488",
   "metadata": {},
   "outputs": [],
   "source": [
    "# Import necessary functions\n",
    "from textblob import TextBlob"
   ]
  },
  {
   "cell_type": "code",
   "execution_count": 1139,
   "id": "bb07dbc4-b256-4a7f-bd29-9548780ad0c7",
   "metadata": {},
   "outputs": [
    {
     "data": {
      "text/html": [
       "<div>\n",
       "<style scoped>\n",
       "    .dataframe tbody tr th:only-of-type {\n",
       "        vertical-align: middle;\n",
       "    }\n",
       "\n",
       "    .dataframe tbody tr th {\n",
       "        vertical-align: top;\n",
       "    }\n",
       "\n",
       "    .dataframe thead th {\n",
       "        text-align: right;\n",
       "    }\n",
       "</style>\n",
       "<table border=\"1\" class=\"dataframe\">\n",
       "  <thead>\n",
       "    <tr style=\"text-align: right;\">\n",
       "      <th></th>\n",
       "      <th>video_id</th>\n",
       "      <th>comment_text</th>\n",
       "      <th>likes</th>\n",
       "      <th>replies</th>\n",
       "    </tr>\n",
       "  </thead>\n",
       "  <tbody>\n",
       "    <tr>\n",
       "      <th>0</th>\n",
       "      <td>XpVt6Z1Gjjo</td>\n",
       "      <td>Logan Paul it's yo big day ‼️‼️‼️</td>\n",
       "      <td>4</td>\n",
       "      <td>0</td>\n",
       "    </tr>\n",
       "    <tr>\n",
       "      <th>1</th>\n",
       "      <td>XpVt6Z1Gjjo</td>\n",
       "      <td>I've been following you from the start of your...</td>\n",
       "      <td>3</td>\n",
       "      <td>0</td>\n",
       "    </tr>\n",
       "    <tr>\n",
       "      <th>2</th>\n",
       "      <td>XpVt6Z1Gjjo</td>\n",
       "      <td>Say hi to Kong and maverick for me</td>\n",
       "      <td>3</td>\n",
       "      <td>0</td>\n",
       "    </tr>\n",
       "    <tr>\n",
       "      <th>3</th>\n",
       "      <td>XpVt6Z1Gjjo</td>\n",
       "      <td>MY FAN . attendance</td>\n",
       "      <td>3</td>\n",
       "      <td>0</td>\n",
       "    </tr>\n",
       "    <tr>\n",
       "      <th>4</th>\n",
       "      <td>XpVt6Z1Gjjo</td>\n",
       "      <td>trending 😉</td>\n",
       "      <td>3</td>\n",
       "      <td>0</td>\n",
       "    </tr>\n",
       "    <tr>\n",
       "      <th>5</th>\n",
       "      <td>XpVt6Z1Gjjo</td>\n",
       "      <td>#1 on trending AYYEEEEE</td>\n",
       "      <td>3</td>\n",
       "      <td>0</td>\n",
       "    </tr>\n",
       "  </tbody>\n",
       "</table>\n",
       "</div>"
      ],
      "text/plain": [
       "      video_id                                       comment_text likes  \\\n",
       "0  XpVt6Z1Gjjo                  Logan Paul it's yo big day ‼️‼️‼️     4   \n",
       "1  XpVt6Z1Gjjo  I've been following you from the start of your...     3   \n",
       "2  XpVt6Z1Gjjo                 Say hi to Kong and maverick for me     3   \n",
       "3  XpVt6Z1Gjjo                                MY FAN . attendance     3   \n",
       "4  XpVt6Z1Gjjo                                         trending 😉     3   \n",
       "5  XpVt6Z1Gjjo                            #1 on trending AYYEEEEE     3   \n",
       "\n",
       "  replies  \n",
       "0       0  \n",
       "1       0  \n",
       "2       0  \n",
       "3       0  \n",
       "4       0  \n",
       "5       0  "
      ]
     },
     "execution_count": 1139,
     "metadata": {},
     "output_type": "execute_result"
    }
   ],
   "source": [
    "# View first six rows of data in comments data frame\n",
    "comments.head(6)"
   ]
  },
  {
   "cell_type": "code",
   "execution_count": 1140,
   "id": "5435e87d-053b-4e88-8dc9-ffff96a7ebcb",
   "metadata": {},
   "outputs": [
    {
     "data": {
      "text/plain": [
       "TextBlob(\"Logan Paul it's yo big day ‼️‼️‼️\")"
      ]
     },
     "execution_count": 1140,
     "metadata": {},
     "output_type": "execute_result"
    }
   ],
   "source": [
    "# Transform a comment into a TextBlob\n",
    "TextBlob(\"Logan Paul it's yo big day ‼️‼️‼️\")"
   ]
  },
  {
   "cell_type": "code",
   "execution_count": 1141,
   "id": "b57aed3f-dffc-4432-9287-c76789b9e795",
   "metadata": {},
   "outputs": [
    {
     "data": {
      "text/plain": [
       "0.0"
      ]
     },
     "execution_count": 1141,
     "metadata": {},
     "output_type": "execute_result"
    }
   ],
   "source": [
    "# Find the polarity of the comment\n",
    "TextBlob(\"Logan Paul it's yo big day ‼️‼️‼️\").sentiment.polarity"
   ]
  },
  {
   "cell_type": "code",
   "execution_count": null,
   "id": "ec1d90c8-31cb-433b-bda4-c6e7b82edaf3",
   "metadata": {},
   "outputs": [],
   "source": [
    "# Find the polarity of each row\n",
    "polarity = []\n",
    "for comment in comments['comment_text']:\n",
    "    try:\n",
    "        polarity.append(TextBlob(comment).sentiment.polarity)\n",
    "    except: \n",
    "        polarity.append(0)\n",
    "\n",
    "# Add polarity into data frame and view\n",
    "comments['polarity'] = polarity\n",
    "comments.head(5)"
   ]
  },
  {
   "cell_type": "markdown",
   "id": "989cf5c2-f6fc-4ef9-b32f-49adf55e5d98",
   "metadata": {},
   "source": [
    "### 2. Wordcloud Analysis \n",
    "This analysis will provide a graphical representation of text data. The Wordcloud will showcase keywords used on the YouTube platform. \n",
    "\n",
    "We will do the following in this analysis: \n",
    "* filter comments with a polarity of 1 \n",
    "* store comments in positive comment data frames\n",
    "* import Wordcloud to represent text data graphically\n",
    "* import STOPWORD function to eliminate meaningless words"
   ]
  },
  {
   "cell_type": "code",
   "execution_count": null,
   "id": "d0e967a6-a9f7-48ed-aa35-fb7645502c41",
   "metadata": {},
   "outputs": [],
   "source": [
    "# Filter and view comments with positive polarities\n",
    "filter1 = comments['polarity'] == 1\n",
    "comments_positive = comments[filter1]\n",
    "comments_positive.head(5)"
   ]
  },
  {
   "cell_type": "code",
   "execution_count": null,
   "id": "e0e35b99-e6d8-4864-8a4f-8f145ec53ee6",
   "metadata": {},
   "outputs": [],
   "source": [
    "# Import necessary functions\n",
    "from wordcloud import WordCloud, STOPWORDS\n",
    "\n",
    "# Convert series to string\n",
    "total_comments_positive = ' '.join(comments_positive['comment_text'])\n",
    "\n",
    "# Generate positive comment wordcloud\n",
    "wordcloud_pos = WordCloud(stopwords=set(STOPWORDS)).generate(total_comments_positive)\n",
    "plt.imshow(wordcloud_pos)\n",
    "plt.axis('off')"
   ]
  },
  {
   "cell_type": "markdown",
   "id": "5764c0d2-5dee-4f03-b4b4-a32ae69da3f0",
   "metadata": {},
   "source": [
    "### Emoji Analysis\n",
    "This analysis will find the most commonly used emojis on YouTube and present them visually.\n",
    "\n",
    "We will do the following in this analysis:\n",
    "* import emoji package\n",
    "* extract emojis from text\n",
    "* import counter package\n",
    "* count emoji instances\n",
    "* create a bar plot of emojis and their frequencies"
   ]
  },
  {
   "cell_type": "code",
   "execution_count": null,
   "id": "b27a7859-7e4e-4c24-aae3-f785612d8915",
   "metadata": {},
   "outputs": [],
   "source": [
    "# Import necessary function\n",
    "!pip install emoji==2.2.0\n",
    "import emoji\n",
    "\n",
    "# Extract emojis from comments\n",
    "emoji_list = []\n",
    "\n",
    "for comment in comments['comment_text'].dropna():\n",
    "    for char in comment:\n",
    "        if char in emoji.EMOJI_DATA:\n",
    "            emoji_list.append(char)\n",
    "\n",
    "emoji_list[0:10]"
   ]
  },
  {
   "cell_type": "code",
   "execution_count": null,
   "id": "9d861aba-ce5e-46e8-ad62-b73464b77f5a",
   "metadata": {},
   "outputs": [],
   "source": [
    "# Count how many times the most used emojis appear\n",
    "from collections import Counter\n",
    "Counter(emoji_list).most_common(10)"
   ]
  },
  {
   "cell_type": "code",
   "execution_count": null,
   "id": "50e34b49-9b8f-4d62-8351-b73053264295",
   "metadata": {},
   "outputs": [],
   "source": [
    "# Store emojis and frequencies in lists\n",
    "top_emojis = [Counter(emoji_list).most_common(10)[i][0] for i in range(10)]\n",
    "emoji_frequency = [Counter(emoji_list).most_common(10)[i][1] for i in range(10)]\n",
    "\n",
    "# Import necessary functions & create bar plot\n",
    "import plotly.graph_objs as go\n",
    "from plotly.offline import iplot\n",
    "\n",
    "trace = go.Bar(x=top_emojis, y=emoji_frequency)\n",
    "\n",
    "iplot([trace])"
   ]
  },
  {
   "cell_type": "markdown",
   "id": "d78f7a56-3269-46e3-b5d6-0aaa8d35a4bb",
   "metadata": {},
   "source": [
    "Shan Singh - Data Analytics Real-World Projects in Python"
   ]
  }
 ],
 "metadata": {
  "kernelspec": {
   "display_name": "Python 3 (ipykernel)",
   "language": "python",
   "name": "python3"
  },
  "language_info": {
   "codemirror_mode": {
    "name": "ipython",
    "version": 3
   },
   "file_extension": ".py",
   "mimetype": "text/x-python",
   "name": "python",
   "nbconvert_exporter": "python",
   "pygments_lexer": "ipython3",
   "version": "3.11.7"
  }
 },
 "nbformat": 4,
 "nbformat_minor": 5
}
